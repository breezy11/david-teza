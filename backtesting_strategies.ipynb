{
 "cells": [
  {
   "cell_type": "code",
   "execution_count": 3,
   "id": "initial_id",
   "metadata": {
    "ExecuteTime": {
     "end_time": "2024-05-04T11:46:53.040025Z",
     "start_time": "2024-05-04T11:46:48.138709Z"
    }
   },
   "outputs": [],
   "source": [
    "# imports\n",
    "import pandas as pd\n",
    "\n",
    "# my imports\n",
    "from strategies.ma_crossover_strategy import *\n",
    "from strategies.rsi_strategy import *"
   ]
  },
  {
   "cell_type": "code",
   "execution_count": 2,
   "id": "992edeecf8ecbe5d",
   "metadata": {
    "ExecuteTime": {
     "end_time": "2024-05-04T11:46:53.388380Z",
     "start_time": "2024-05-04T11:46:53.044795Z"
    }
   },
   "outputs": [],
   "source": [
    "ma_trades = backtest_ma()\n",
    "rsi_trades = backtest_rsi()"
   ]
  },
  {
   "cell_type": "code",
   "execution_count": 6,
   "id": "5d0f0158fb40f833",
   "metadata": {
    "ExecuteTime": {
     "end_time": "2024-05-04T11:47:10.121423Z",
     "start_time": "2024-05-04T11:47:10.108737Z"
    }
   },
   "outputs": [
    {
     "data": {
      "text/html": [
       "<div>\n",
       "<style scoped>\n",
       "    .dataframe tbody tr th:only-of-type {\n",
       "        vertical-align: middle;\n",
       "    }\n",
       "\n",
       "    .dataframe tbody tr th {\n",
       "        vertical-align: top;\n",
       "    }\n",
       "\n",
       "    .dataframe thead th {\n",
       "        text-align: right;\n",
       "    }\n",
       "</style>\n",
       "<table border=\"1\" class=\"dataframe\">\n",
       "  <thead>\n",
       "    <tr style=\"text-align: right;\">\n",
       "      <th></th>\n",
       "      <th>entry_date</th>\n",
       "      <th>exit_date</th>\n",
       "      <th>entry_price</th>\n",
       "      <th>exit_price</th>\n",
       "      <th>profit</th>\n",
       "    </tr>\n",
       "  </thead>\n",
       "  <tbody>\n",
       "    <tr>\n",
       "      <th>0</th>\n",
       "      <td>2017-12-29</td>\n",
       "      <td>2018-01-20</td>\n",
       "      <td>60.4200</td>\n",
       "      <td>63.5700</td>\n",
       "      <td>5213.505462</td>\n",
       "    </tr>\n",
       "    <tr>\n",
       "      <th>1</th>\n",
       "      <td>2018-01-24</td>\n",
       "      <td>2018-02-02</td>\n",
       "      <td>65.6100</td>\n",
       "      <td>65.4500</td>\n",
       "      <td>-256.579193</td>\n",
       "    </tr>\n",
       "    <tr>\n",
       "      <th>2</th>\n",
       "      <td>2018-02-17</td>\n",
       "      <td>2018-03-02</td>\n",
       "      <td>61.6100</td>\n",
       "      <td>61.2500</td>\n",
       "      <td>-613.285075</td>\n",
       "    </tr>\n",
       "    <tr>\n",
       "      <th>3</th>\n",
       "      <td>2018-03-13</td>\n",
       "      <td>2018-03-14</td>\n",
       "      <td>60.7100</td>\n",
       "      <td>60.9600</td>\n",
       "      <td>429.680618</td>\n",
       "    </tr>\n",
       "    <tr>\n",
       "      <th>4</th>\n",
       "      <td>2018-03-18</td>\n",
       "      <td>2018-04-01</td>\n",
       "      <td>62.2193</td>\n",
       "      <td>65.1858</td>\n",
       "      <td>4995.396270</td>\n",
       "    </tr>\n",
       "    <tr>\n",
       "      <th>...</th>\n",
       "      <td>...</td>\n",
       "      <td>...</td>\n",
       "      <td>...</td>\n",
       "      <td>...</td>\n",
       "      <td>...</td>\n",
       "    </tr>\n",
       "    <tr>\n",
       "      <th>86</th>\n",
       "      <td>2023-07-04</td>\n",
       "      <td>2023-08-16</td>\n",
       "      <td>71.1540</td>\n",
       "      <td>78.7300</td>\n",
       "      <td>28387.897763</td>\n",
       "    </tr>\n",
       "    <tr>\n",
       "      <th>87</th>\n",
       "      <td>2023-08-30</td>\n",
       "      <td>2023-09-26</td>\n",
       "      <td>81.1200</td>\n",
       "      <td>88.7800</td>\n",
       "      <td>27857.000088</td>\n",
       "    </tr>\n",
       "    <tr>\n",
       "      <th>88</th>\n",
       "      <td>2023-09-27</td>\n",
       "      <td>2023-10-04</td>\n",
       "      <td>91.3000</td>\n",
       "      <td>82.5500</td>\n",
       "      <td>-30942.684710</td>\n",
       "    </tr>\n",
       "    <tr>\n",
       "      <th>89</th>\n",
       "      <td>2023-10-17</td>\n",
       "      <td>2023-10-26</td>\n",
       "      <td>84.3000</td>\n",
       "      <td>82.5400</td>\n",
       "      <td>-6094.696866</td>\n",
       "    </tr>\n",
       "    <tr>\n",
       "      <th>90</th>\n",
       "      <td>2023-11-24</td>\n",
       "      <td>2023-11-30</td>\n",
       "      <td>75.7700</td>\n",
       "      <td>76.0500</td>\n",
       "      <td>1056.244962</td>\n",
       "    </tr>\n",
       "  </tbody>\n",
       "</table>\n",
       "<p>91 rows × 5 columns</p>\n",
       "</div>"
      ],
      "text/plain": [
       "   entry_date  exit_date  entry_price  exit_price        profit\n",
       "0  2017-12-29 2018-01-20      60.4200     63.5700   5213.505462\n",
       "1  2018-01-24 2018-02-02      65.6100     65.4500   -256.579193\n",
       "2  2018-02-17 2018-03-02      61.6100     61.2500   -613.285075\n",
       "3  2018-03-13 2018-03-14      60.7100     60.9600    429.680618\n",
       "4  2018-03-18 2018-04-01      62.2193     65.1858   4995.396270\n",
       "..        ...        ...          ...         ...           ...\n",
       "86 2023-07-04 2023-08-16      71.1540     78.7300  28387.897763\n",
       "87 2023-08-30 2023-09-26      81.1200     88.7800  27857.000088\n",
       "88 2023-09-27 2023-10-04      91.3000     82.5500 -30942.684710\n",
       "89 2023-10-17 2023-10-26      84.3000     82.5400  -6094.696866\n",
       "90 2023-11-24 2023-11-30      75.7700     76.0500   1056.244962\n",
       "\n",
       "[91 rows x 5 columns]"
      ]
     },
     "execution_count": 6,
     "metadata": {},
     "output_type": "execute_result"
    }
   ],
   "source": [
    "ma_trades"
   ]
  },
  {
   "cell_type": "code",
   "execution_count": 5,
   "id": "7cac680a5c575f77",
   "metadata": {
    "ExecuteTime": {
     "end_time": "2024-05-04T11:47:06.431848Z",
     "start_time": "2024-05-04T11:47:06.419497Z"
    }
   },
   "outputs": [
    {
     "data": {
      "text/html": [
       "<div>\n",
       "<style scoped>\n",
       "    .dataframe tbody tr th:only-of-type {\n",
       "        vertical-align: middle;\n",
       "    }\n",
       "\n",
       "    .dataframe tbody tr th {\n",
       "        vertical-align: top;\n",
       "    }\n",
       "\n",
       "    .dataframe thead th {\n",
       "        text-align: right;\n",
       "    }\n",
       "</style>\n",
       "<table border=\"1\" class=\"dataframe\">\n",
       "  <thead>\n",
       "    <tr style=\"text-align: right;\">\n",
       "      <th></th>\n",
       "      <th>entry_date</th>\n",
       "      <th>exit_date</th>\n",
       "      <th>entry_price</th>\n",
       "      <th>exit_price</th>\n",
       "      <th>profit</th>\n",
       "    </tr>\n",
       "  </thead>\n",
       "  <tbody>\n",
       "    <tr>\n",
       "      <th>0</th>\n",
       "      <td>2018-02-07</td>\n",
       "      <td>2018-03-21</td>\n",
       "      <td>61.79</td>\n",
       "      <td>65.1700</td>\n",
       "      <td>5470.140799</td>\n",
       "    </tr>\n",
       "    <tr>\n",
       "      <th>1</th>\n",
       "      <td>2018-05-25</td>\n",
       "      <td>2018-06-27</td>\n",
       "      <td>67.88</td>\n",
       "      <td>72.7600</td>\n",
       "      <td>7582.414365</td>\n",
       "    </tr>\n",
       "    <tr>\n",
       "      <th>2</th>\n",
       "      <td>2018-10-23</td>\n",
       "      <td>2019-02-20</td>\n",
       "      <td>66.43</td>\n",
       "      <td>56.9200</td>\n",
       "      <td>-16184.401620</td>\n",
       "    </tr>\n",
       "    <tr>\n",
       "      <th>3</th>\n",
       "      <td>2019-05-23</td>\n",
       "      <td>2019-06-26</td>\n",
       "      <td>57.91</td>\n",
       "      <td>59.3800</td>\n",
       "      <td>2458.922219</td>\n",
       "    </tr>\n",
       "    <tr>\n",
       "      <th>4</th>\n",
       "      <td>2019-08-07</td>\n",
       "      <td>2019-09-15</td>\n",
       "      <td>51.09</td>\n",
       "      <td>61.1282</td>\n",
       "      <td>19515.855391</td>\n",
       "    </tr>\n",
       "    <tr>\n",
       "      <th>5</th>\n",
       "      <td>2019-10-02</td>\n",
       "      <td>2019-12-17</td>\n",
       "      <td>52.64</td>\n",
       "      <td>60.6840</td>\n",
       "      <td>18160.572534</td>\n",
       "    </tr>\n",
       "    <tr>\n",
       "      <th>6</th>\n",
       "      <td>2020-01-15</td>\n",
       "      <td>2020-06-02</td>\n",
       "      <td>57.84</td>\n",
       "      <td>36.8100</td>\n",
       "      <td>-49812.995895</td>\n",
       "    </tr>\n",
       "    <tr>\n",
       "      <th>7</th>\n",
       "      <td>2020-09-04</td>\n",
       "      <td>2020-11-24</td>\n",
       "      <td>39.77</td>\n",
       "      <td>44.9100</td>\n",
       "      <td>11268.775712</td>\n",
       "    </tr>\n",
       "    <tr>\n",
       "      <th>8</th>\n",
       "      <td>2021-07-19</td>\n",
       "      <td>2021-09-27</td>\n",
       "      <td>66.35</td>\n",
       "      <td>75.4500</td>\n",
       "      <td>13503.835417</td>\n",
       "    </tr>\n",
       "    <tr>\n",
       "      <th>9</th>\n",
       "      <td>2021-11-19</td>\n",
       "      <td>2022-01-06</td>\n",
       "      <td>75.23</td>\n",
       "      <td>78.8800</td>\n",
       "      <td>5432.213001</td>\n",
       "    </tr>\n",
       "    <tr>\n",
       "      <th>10</th>\n",
       "      <td>2022-09-23</td>\n",
       "      <td>2023-04-03</td>\n",
       "      <td>78.25</td>\n",
       "      <td>80.4400</td>\n",
       "      <td>3285.569034</td>\n",
       "    </tr>\n",
       "    <tr>\n",
       "      <th>11</th>\n",
       "      <td>2023-05-03</td>\n",
       "      <td>2023-07-13</td>\n",
       "      <td>68.60</td>\n",
       "      <td>76.4700</td>\n",
       "      <td>13844.878871</td>\n",
       "    </tr>\n",
       "  </tbody>\n",
       "</table>\n",
       "</div>"
      ],
      "text/plain": [
       "   entry_date  exit_date  entry_price  exit_price        profit\n",
       "0  2018-02-07 2018-03-21        61.79     65.1700   5470.140799\n",
       "1  2018-05-25 2018-06-27        67.88     72.7600   7582.414365\n",
       "2  2018-10-23 2019-02-20        66.43     56.9200 -16184.401620\n",
       "3  2019-05-23 2019-06-26        57.91     59.3800   2458.922219\n",
       "4  2019-08-07 2019-09-15        51.09     61.1282  19515.855391\n",
       "5  2019-10-02 2019-12-17        52.64     60.6840  18160.572534\n",
       "6  2020-01-15 2020-06-02        57.84     36.8100 -49812.995895\n",
       "7  2020-09-04 2020-11-24        39.77     44.9100  11268.775712\n",
       "8  2021-07-19 2021-09-27        66.35     75.4500  13503.835417\n",
       "9  2021-11-19 2022-01-06        75.23     78.8800   5432.213001\n",
       "10 2022-09-23 2023-04-03        78.25     80.4400   3285.569034\n",
       "11 2023-05-03 2023-07-13        68.60     76.4700  13844.878871"
      ]
     },
     "execution_count": 5,
     "metadata": {},
     "output_type": "execute_result"
    }
   ],
   "source": [
    "rsi_trades"
   ]
  },
  {
   "cell_type": "code",
   "execution_count": 8,
   "id": "fa51b087900af2b4",
   "metadata": {
    "ExecuteTime": {
     "end_time": "2024-05-04T11:51:21.020114Z",
     "start_time": "2024-05-04T11:51:21.014683Z"
    }
   },
   "outputs": [],
   "source": [
    "# Create the final data frame that will contain the results of the strategies\n",
    "final_results = pd.DataFrame(columns = ['Annual Return', 'Total Return', 'Maximum Drawdown', 'Win Rate', 'Profit Factor'])"
   ]
  },
  {
   "cell_type": "code",
   "execution_count": 9,
   "id": "522a81b02cc5940f",
   "metadata": {
    "ExecuteTime": {
     "end_time": "2024-05-04T11:51:21.387464Z",
     "start_time": "2024-05-04T11:51:21.375353Z"
    }
   },
   "outputs": [],
   "source": [
    "# Calculate the results of the strategies\n",
    "final_results.loc['Moving Average Crossover'] = [annualized_return(ma_trades), total_return(ma_trades), maximum_drawdown(ma_trades), win_rate(ma_trades) , profit_factor(ma_trades)]\n",
    "\n",
    "final_results.loc['RSI'] = [annualized_return(rsi_trades), total_return(rsi_trades), maximum_drawdown(rsi_trades), win_rate(rsi_trades) , profit_factor(rsi_trades)]"
   ]
  },
  {
   "cell_type": "code",
   "execution_count": 10,
   "id": "28b9e9fd776d3f56",
   "metadata": {
    "ExecuteTime": {
     "end_time": "2024-05-04T11:51:23.285613Z",
     "start_time": "2024-05-04T11:51:23.275730Z"
    }
   },
   "outputs": [
    {
     "data": {
      "text/html": [
       "<div>\n",
       "<style scoped>\n",
       "    .dataframe tbody tr th:only-of-type {\n",
       "        vertical-align: middle;\n",
       "    }\n",
       "\n",
       "    .dataframe tbody tr th {\n",
       "        vertical-align: top;\n",
       "    }\n",
       "\n",
       "    .dataframe thead th {\n",
       "        text-align: right;\n",
       "    }\n",
       "</style>\n",
       "<table border=\"1\" class=\"dataframe\">\n",
       "  <thead>\n",
       "    <tr style=\"text-align: right;\">\n",
       "      <th></th>\n",
       "      <th>Annual Return</th>\n",
       "      <th>Total Return</th>\n",
       "      <th>Maximum Drawdown</th>\n",
       "      <th>Win Rate</th>\n",
       "      <th>Profit Factor</th>\n",
       "    </tr>\n",
       "  </thead>\n",
       "  <tbody>\n",
       "    <tr>\n",
       "      <th>Moving Average Crossover</th>\n",
       "      <td>4.663462</td>\n",
       "      <td>186.883676</td>\n",
       "      <td>2.228324</td>\n",
       "      <td>38.461538</td>\n",
       "      <td>1.361485</td>\n",
       "    </tr>\n",
       "    <tr>\n",
       "      <th>RSI</th>\n",
       "      <td>4.706362</td>\n",
       "      <td>34.525780</td>\n",
       "      <td>3.552437</td>\n",
       "      <td>83.333333</td>\n",
       "      <td>1.523139</td>\n",
       "    </tr>\n",
       "  </tbody>\n",
       "</table>\n",
       "</div>"
      ],
      "text/plain": [
       "                          Annual Return  Total Return  Maximum Drawdown  \\\n",
       "Moving Average Crossover       4.663462    186.883676          2.228324   \n",
       "RSI                            4.706362     34.525780          3.552437   \n",
       "\n",
       "                           Win Rate  Profit Factor  \n",
       "Moving Average Crossover  38.461538       1.361485  \n",
       "RSI                       83.333333       1.523139  "
      ]
     },
     "execution_count": 10,
     "metadata": {},
     "output_type": "execute_result"
    }
   ],
   "source": [
    "final_results"
   ]
  }
 ],
 "metadata": {
  "kernelspec": {
   "display_name": "Python 3 (ipykernel)",
   "language": "python",
   "name": "python3"
  },
  "language_info": {
   "codemirror_mode": {
    "name": "ipython",
    "version": 3
   },
   "file_extension": ".py",
   "mimetype": "text/x-python",
   "name": "python",
   "nbconvert_exporter": "python",
   "pygments_lexer": "ipython3",
   "version": "3.11.2"
  }
 },
 "nbformat": 4,
 "nbformat_minor": 5
}
