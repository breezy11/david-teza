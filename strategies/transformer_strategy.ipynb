{
 "cells": [
  {
   "cell_type": "code",
   "execution_count": 1,
   "id": "initial_id",
   "metadata": {
    "collapsed": true,
    "ExecuteTime": {
     "end_time": "2024-05-04T11:04:32.662Z",
     "start_time": "2024-05-04T11:04:32.278371Z"
    }
   },
   "outputs": [],
   "source": [
    "# imports\n",
    "import pandas as pd\n",
    "import numpy as np\n",
    "import ta\n",
    "\n",
    "# transformer imports\n",
    "from sklearn.preprocessing import MinMaxScaler\n",
    "from tensorflow.keras.models import Model\n",
    "from tensorflow.keras.layers import Input, Dense, Dropout, LayerNormalization\n",
    "from tensorflow.keras.layers import MultiHeadAttention, Add, Flatten\n",
    "from tensorflow.keras.optimizers import Adam\n",
    "from tensorflow.keras.callbacks import EarlyStopping\n",
    "\n",
    "# custom imports\n",
    "from metrics_calculation import *"
   ]
  },
  {
   "cell_type": "markdown",
   "source": [
    "## 1. Data preparation"
   ],
   "metadata": {
    "collapsed": false
   },
   "id": "251adb7cffa98382"
  },
  {
   "cell_type": "code",
   "outputs": [],
   "source": [
    "# Load and prepare the dataset\n",
    "df = pd.read_csv('data/crude_oil_daily.csv', index_col = 0)\n",
    "df.index = pd.to_datetime(df.index)"
   ],
   "metadata": {
    "collapsed": false,
    "ExecuteTime": {
     "end_time": "2024-05-04T11:04:32.684612Z",
     "start_time": "2024-05-04T11:04:32.664080Z"
    }
   },
   "id": "becdd157e0a2653c",
   "execution_count": 2
  },
  {
   "cell_type": "code",
   "outputs": [],
   "source": [
    "# Train-test split creation\n",
    "df_test = df[(df.index >= '2018-01-01') & (df.index < '2024-01-01')]\n",
    "df_train = df[df.index < '2018-01-01']"
   ],
   "metadata": {
    "collapsed": false,
    "ExecuteTime": {
     "end_time": "2024-05-04T11:04:32.691607Z",
     "start_time": "2024-05-04T11:04:32.685652Z"
    }
   },
   "id": "d50cdf6c4965ab64",
   "execution_count": 3
  },
  {
   "cell_type": "code",
   "outputs": [],
   "source": [
    "# Set the sequence lengths for input and output\n",
    "input_sequence_length = 10  # Number of past days to consider for predicting\n",
    "output_sequence_length = 5  # Number of future days to predict"
   ],
   "metadata": {
    "collapsed": false,
    "ExecuteTime": {
     "end_time": "2024-05-04T11:04:32.697758Z",
     "start_time": "2024-05-04T11:04:32.694388Z"
    }
   },
   "id": "bfe9338a8821fc47",
   "execution_count": 4
  },
  {
   "cell_type": "code",
   "outputs": [],
   "source": [
    "# Normalize the training and testing data\n",
    "scaler = MinMaxScaler()\n",
    "df_train_scaled = scaler.fit_transform(df_train[['Open', 'High', 'Low', 'Close']])\n",
    "df_test_scaled = scaler.transform(df_test[['Open', 'High', 'Low', 'Close']])\n",
    "\n",
    "# Create a separate scaler for inverse transforming the 'Close' price predictions later\n",
    "scaler_currency = MinMaxScaler()\n",
    "currency_values = df_train['Close'].values.reshape(-1, 1)\n",
    "scaled_currency = scaler_currency.fit(currency_values)\n",
    "\n",
    "# Retrieve date indexes for both training and testing data\n",
    "# This is used to organize the predictions later on\n",
    "df_train_indexes = df_train.index\n",
    "df_test_indexes = df_test.index\n",
    "\n",
    "# Helper function to create input-output sequences, preprocessing for transformer\n",
    "def create_sequences(input_sequence_length, output_sequence_length, data, dates):\n",
    "    x, y = [], []\n",
    "    x_dates, y_dates = [], []\n",
    "    data_len = len(data)\n",
    "    for i in range(input_sequence_length, data_len - output_sequence_length + 1):\n",
    "        x.append(data[i - input_sequence_length:i])\n",
    "        y.append(data[i:i + output_sequence_length, 3])  # Assuming 'Close' is at index 3\n",
    "        x_dates.append(dates[i - input_sequence_length:i])\n",
    "        y_dates.append(dates[i:i + output_sequence_length])\n",
    "    return np.array(x), np.array(y), x_dates, y_dates\n",
    "\n",
    "# Generate training and testing data using the helper function\n",
    "x_train, y_train, x_train_indexes, y_train_indexes = create_sequences(input_sequence_length, output_sequence_length, df_train_scaled, df_train_indexes)\n",
    "x_test, y_test, x_test_indexes, y_test_indexes = create_sequences(input_sequence_length, output_sequence_length, df_test_scaled, df_test_indexes)\n",
    "\n",
    "# Print the shapes: the result is: (rows, training_sequence, features) (prediction value, )\n",
    "print(x_train.shape, y_train.shape)\n",
    "print(x_test.shape, y_test.shape)"
   ],
   "metadata": {
    "collapsed": false
   },
   "id": "2202985e4509401d"
  },
  {
   "cell_type": "markdown",
   "source": [
    "## 2. Model creation"
   ],
   "metadata": {
    "collapsed": false
   },
   "id": "e6624859b307fb09"
  },
  {
   "cell_type": "code",
   "outputs": [],
   "source": [
    "# Define a Transformer block as a reusable component\n",
    "def transformer_encoder(inputs, head_size, num_heads, ff_dim, dropout=0):\n",
    "    # Attention and Normalization\n",
    "    x = LayerNormalization(epsilon=1e-6)(inputs)\n",
    "    x = MultiHeadAttention(key_dim=head_size, num_heads=num_heads)(x, x)\n",
    "    x = Dropout(dropout)(x)\n",
    "    res = Add()([x, inputs])\n",
    "\n",
    "    # Feed Forward Part\n",
    "    x = LayerNormalization(epsilon=1e-6)(res)\n",
    "    x = Dense(ff_dim, activation=\"relu\")(x)\n",
    "    x = Dropout(dropout)(x)\n",
    "    x = Dense(inputs.shape[-1])(x)\n",
    "    return Add()([x, res])\n",
    "\n",
    "# Build a simple Transformer model\n",
    "def build_model(input_shape, head_size=32, num_heads=2, ff_dim=32, dropout=0.1):\n",
    "    inputs = Input(shape=input_shape)\n",
    "    x = LayerNormalization(epsilon=1e-6)(inputs)\n",
    "    x = MultiHeadAttention(key_dim=head_size, num_heads=num_heads)(x, x)\n",
    "    x = Dropout(dropout)(x)\n",
    "    x = Add()([x, inputs])\n",
    "\n",
    "    x = LayerNormalization(epsilon=1e-6)(x)\n",
    "    x = Dense(ff_dim, activation=\"relu\")(x)\n",
    "    x = Dropout(dropout)(x)\n",
    "    x = Dense(inputs.shape[-1])(x)\n",
    "    x = Add()([x, inputs])\n",
    "\n",
    "    x = Flatten()(x)\n",
    "    outputs = Dense(output_sequence_length)(x)  # predicting all 4 features at the next time step\n",
    "    model = Model(inputs, outputs)\n",
    "    model.compile(optimizer=Adam(), loss='mse')\n",
    "    return model\n",
    "\n",
    "# Configure early stopping to avoid overfitting\n",
    "early_stop = EarlyStopping(monitor='val_loss', patience=3, verbose=2)\n",
    "\n",
    "# Instantiate and summarize the model\n",
    "model = build_model(input_shape=(10, 4))\n",
    "model.summary()"
   ],
   "metadata": {
    "collapsed": false,
    "ExecuteTime": {
     "end_time": "2024-05-04T11:04:35.866013Z",
     "start_time": "2024-05-04T11:04:32.698884Z"
    }
   },
   "id": "f6829730db822de5",
   "execution_count": 5
  },
  {
   "cell_type": "markdown",
   "source": [
    "## 3. Model training"
   ],
   "metadata": {
    "collapsed": false
   },
   "id": "b355fff85beb1f8c"
  },
  {
   "cell_type": "code",
   "outputs": [
    {
     "name": "stdout",
     "output_type": "stream",
     "text": [
      "Epoch 1/10\n",
      "227/227 [==============================] - 3s 4ms/step - loss: 0.0506 - val_loss: 0.0025\n",
      "Epoch 2/10\n",
      "227/227 [==============================] - 1s 3ms/step - loss: 0.0047 - val_loss: 6.5138e-04\n",
      "Epoch 3/10\n",
      "227/227 [==============================] - 1s 3ms/step - loss: 0.0020 - val_loss: 4.8555e-04\n",
      "Epoch 4/10\n",
      "227/227 [==============================] - 1s 3ms/step - loss: 0.0012 - val_loss: 4.2513e-04\n",
      "Epoch 5/10\n",
      "227/227 [==============================] - 1s 3ms/step - loss: 8.5003e-04 - val_loss: 3.8638e-04\n",
      "Epoch 6/10\n",
      "227/227 [==============================] - 1s 3ms/step - loss: 6.8380e-04 - val_loss: 3.7962e-04\n",
      "Epoch 7/10\n",
      "227/227 [==============================] - 1s 3ms/step - loss: 5.9873e-04 - val_loss: 3.5082e-04\n",
      "Epoch 8/10\n",
      "227/227 [==============================] - 1s 3ms/step - loss: 5.1182e-04 - val_loss: 3.5187e-04\n",
      "Epoch 9/10\n",
      "227/227 [==============================] - 1s 3ms/step - loss: 4.7300e-04 - val_loss: 3.2824e-04\n",
      "Epoch 10/10\n",
      "227/227 [==============================] - 1s 3ms/step - loss: 4.4306e-04 - val_loss: 3.2034e-04\n"
     ]
    }
   ],
   "source": [
    "# Train the model\n",
    "history = model.fit(x_train, y_train, epochs=10, batch_size=32, validation_split=0.1, verbose=1, callbacks=[early_stop])"
   ],
   "metadata": {
    "collapsed": false,
    "ExecuteTime": {
     "end_time": "2024-05-04T11:04:47.608524Z",
     "start_time": "2024-05-04T11:04:37.918269Z"
    }
   },
   "id": "6044c8976c0be629",
   "execution_count": 8
  },
  {
   "cell_type": "markdown",
   "source": [
    "## 4. Model prediction"
   ],
   "metadata": {
    "collapsed": false
   },
   "id": "2b31b27034851086"
  },
  {
   "cell_type": "code",
   "outputs": [
    {
     "name": "stdout",
     "output_type": "stream",
     "text": [
      "52/52 [==============================] - 0s 2ms/step\n"
     ]
    }
   ],
   "source": [
    "# Predict future values using the trained model\n",
    "predictions_scaled = model.predict(x_test)\n",
    "\n",
    "# Inverse transform the scaled predictions to get actual price predictions\n",
    "predictions = scaled_currency.inverse_transform(predictions_scaled)"
   ],
   "metadata": {
    "collapsed": false,
    "ExecuteTime": {
     "end_time": "2024-05-04T11:04:49.171998Z",
     "start_time": "2024-05-04T11:04:48.855258Z"
    }
   },
   "id": "a7e1515a20502f1b",
   "execution_count": 9
  },
  {
   "cell_type": "code",
   "outputs": [],
   "source": [
    "# Prepare final test DataFrame by selecting the relevant subset\n",
    "df_test_final = df_test[df_test.index >= x_test_indexes[0][-1]]\n",
    "df_test_final = df_test_final.iloc[:-5, :]\n",
    "\n",
    "df_test_final['prediction'] = predictions\n",
    "df_test_final['signal'] = 0"
   ],
   "metadata": {
    "collapsed": false,
    "ExecuteTime": {
     "end_time": "2024-05-04T11:19:41.939778Z",
     "start_time": "2024-05-04T11:19:41.934869Z"
    }
   },
   "id": "6d247f3279cb6b79",
   "execution_count": 48
  },
  {
   "cell_type": "code",
   "outputs": [
    {
     "data": {
      "text/plain": "               Open     High      Low    Close  prediction  signal\nDate                                                              \n2018-01-11  63.5000  64.7700  63.4300  63.8000   63.018944       0\n2018-01-12  63.5700  64.5000  63.0600  64.3000   63.768158       0\n2018-01-14  64.3554  64.4617  64.2424  64.4390   63.289131       0\n2018-01-15  64.3776  64.9931  63.9680  64.7638   63.237473       0\n2018-01-16  64.4300  64.8900  63.3900  63.7300   62.181446       0\n...             ...      ...      ...      ...         ...     ...\n2023-12-15  71.9100  72.5600  70.6400  71.7800   72.052574       0\n2023-12-18  72.0500  74.6100  70.9900  72.8200   73.281517       0\n2023-12-19  72.9300  74.4500  72.1400  73.9400   71.271759       0\n2023-12-20  74.0600  75.3700  73.6000  74.2200   73.636803       0\n2023-12-21  73.8100  74.5800  72.4400  73.8900   72.096451       0\n\n[1635 rows x 6 columns]",
      "text/html": "<div>\n<style scoped>\n    .dataframe tbody tr th:only-of-type {\n        vertical-align: middle;\n    }\n\n    .dataframe tbody tr th {\n        vertical-align: top;\n    }\n\n    .dataframe thead th {\n        text-align: right;\n    }\n</style>\n<table border=\"1\" class=\"dataframe\">\n  <thead>\n    <tr style=\"text-align: right;\">\n      <th></th>\n      <th>Open</th>\n      <th>High</th>\n      <th>Low</th>\n      <th>Close</th>\n      <th>prediction</th>\n      <th>signal</th>\n    </tr>\n    <tr>\n      <th>Date</th>\n      <th></th>\n      <th></th>\n      <th></th>\n      <th></th>\n      <th></th>\n      <th></th>\n    </tr>\n  </thead>\n  <tbody>\n    <tr>\n      <th>2018-01-11</th>\n      <td>63.5000</td>\n      <td>64.7700</td>\n      <td>63.4300</td>\n      <td>63.8000</td>\n      <td>63.018944</td>\n      <td>0</td>\n    </tr>\n    <tr>\n      <th>2018-01-12</th>\n      <td>63.5700</td>\n      <td>64.5000</td>\n      <td>63.0600</td>\n      <td>64.3000</td>\n      <td>63.768158</td>\n      <td>0</td>\n    </tr>\n    <tr>\n      <th>2018-01-14</th>\n      <td>64.3554</td>\n      <td>64.4617</td>\n      <td>64.2424</td>\n      <td>64.4390</td>\n      <td>63.289131</td>\n      <td>0</td>\n    </tr>\n    <tr>\n      <th>2018-01-15</th>\n      <td>64.3776</td>\n      <td>64.9931</td>\n      <td>63.9680</td>\n      <td>64.7638</td>\n      <td>63.237473</td>\n      <td>0</td>\n    </tr>\n    <tr>\n      <th>2018-01-16</th>\n      <td>64.4300</td>\n      <td>64.8900</td>\n      <td>63.3900</td>\n      <td>63.7300</td>\n      <td>62.181446</td>\n      <td>0</td>\n    </tr>\n    <tr>\n      <th>...</th>\n      <td>...</td>\n      <td>...</td>\n      <td>...</td>\n      <td>...</td>\n      <td>...</td>\n      <td>...</td>\n    </tr>\n    <tr>\n      <th>2023-12-15</th>\n      <td>71.9100</td>\n      <td>72.5600</td>\n      <td>70.6400</td>\n      <td>71.7800</td>\n      <td>72.052574</td>\n      <td>0</td>\n    </tr>\n    <tr>\n      <th>2023-12-18</th>\n      <td>72.0500</td>\n      <td>74.6100</td>\n      <td>70.9900</td>\n      <td>72.8200</td>\n      <td>73.281517</td>\n      <td>0</td>\n    </tr>\n    <tr>\n      <th>2023-12-19</th>\n      <td>72.9300</td>\n      <td>74.4500</td>\n      <td>72.1400</td>\n      <td>73.9400</td>\n      <td>71.271759</td>\n      <td>0</td>\n    </tr>\n    <tr>\n      <th>2023-12-20</th>\n      <td>74.0600</td>\n      <td>75.3700</td>\n      <td>73.6000</td>\n      <td>74.2200</td>\n      <td>73.636803</td>\n      <td>0</td>\n    </tr>\n    <tr>\n      <th>2023-12-21</th>\n      <td>73.8100</td>\n      <td>74.5800</td>\n      <td>72.4400</td>\n      <td>73.8900</td>\n      <td>72.096451</td>\n      <td>0</td>\n    </tr>\n  </tbody>\n</table>\n<p>1635 rows × 6 columns</p>\n</div>"
     },
     "execution_count": 53,
     "metadata": {},
     "output_type": "execute_result"
    }
   ],
   "source": [
    "df_test_final"
   ],
   "metadata": {
    "collapsed": false,
    "ExecuteTime": {
     "end_time": "2024-05-04T11:22:12.437015Z",
     "start_time": "2024-05-04T11:22:12.425947Z"
    }
   },
   "id": "65164d9f95b94061",
   "execution_count": 53
  }
 ],
 "metadata": {
  "kernelspec": {
   "display_name": "Python 3",
   "language": "python",
   "name": "python3"
  },
  "language_info": {
   "codemirror_mode": {
    "name": "ipython",
    "version": 2
   },
   "file_extension": ".py",
   "mimetype": "text/x-python",
   "name": "python",
   "nbconvert_exporter": "python",
   "pygments_lexer": "ipython2",
   "version": "2.7.6"
  }
 },
 "nbformat": 4,
 "nbformat_minor": 5
}
